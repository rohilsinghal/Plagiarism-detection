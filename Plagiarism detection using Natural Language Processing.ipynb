{
 "cells": [
  {
   "cell_type": "markdown",
   "metadata": {},
   "source": [
    "# Plagiarism detection using Natural Language Processing\n"
   ]
  },
  {
   "cell_type": "code",
   "execution_count": 9,
   "metadata": {},
   "outputs": [],
   "source": [
    "import nltk\n",
    "from nltk.tokenize import word_tokenize\n",
    "from nltk.tokenize import sent_tokenize \n",
    "from nltk.corpus import stopwords "
   ]
  },
  {
   "cell_type": "code",
   "execution_count": 10,
   "metadata": {},
   "outputs": [],
   "source": [
    "def plagiarism(file):\n",
    "    f=open('C:\\\\Users\\\\Rohil\\\\Desktop\\\\plagiarism\\\\corpus\\\\corpus-20090418\\\\'+file,\"r\",encoding=\"utf8\")\n",
    "    orig=f.read().replace(\"\\n\",\" \")\n",
    "    f.close()\n",
    "    \n",
    "    f2=open('C:\\\\Users\\\\Rohil\\\\Desktop\\\\plagiarism\\\\corpus\\\\corpus-20090418\\\\orig_taska.txt',\"r\",encoding=\"utf8\")\n",
    "    plag=f2.read().replace(\"\\n\",\" \")\n",
    "    f2.close()\n",
    "    \n",
    "    #word tokenisation\n",
    "    tokens_o=word_tokenize(orig)\n",
    "    tokens_p=word_tokenize(plag)\n",
    "    \n",
    "    #lowerCase\n",
    "    tokens_o = [token.lower() for token in tokens_o]\n",
    "    tokens_p = [token.lower() for token in tokens_p]\n",
    "    \n",
    "    #stop word removal\n",
    "    #punctuation removal\n",
    "    stop_words=set(stopwords.words('english'))\n",
    "    punctuations=['\"','.','(',')',',','?',';',':',\"''\",'``']\n",
    "    filtered_tokens_o = [w for w in tokens_o if not w in stop_words and not w in punctuations]\n",
    "    filtered_tokens_p = [w for w in tokens_p if not w in stop_words and not w in punctuations]\n",
    "    \n",
    "    \n",
    "    #Trigram Similiarity measures\n",
    "    trigrams_o=[]\n",
    "    for i in range(len(filtered_tokens_o)-2):\n",
    "        t=(filtered_tokens_o[i],filtered_tokens_o[i+1],filtered_tokens_o[i+2])\n",
    "        trigrams_o.append(t)\n",
    "    \n",
    "    \n",
    "    s=0\n",
    "    trigrams_p=[]\n",
    "    for i in range(len(filtered_tokens_p)-2):\n",
    "        t=(filtered_tokens_p[i],filtered_tokens_p[i+1],filtered_tokens_p[i+2])\n",
    "        trigrams_p.append(t)\n",
    "        if t in trigrams_o:\n",
    "            s+=1\n",
    "    \n",
    "       \n",
    "        \n",
    "    #jaccord coefficient = (S(o)^S(p))/(S(o) U S(p))\n",
    "    J=(s/(len(list(set(trigrams_o) | set(trigrams_p))))*100) \n",
    "    \n",
    "    #containment measure\n",
    "    C=(s/len(trigrams_p)*100)\n",
    "    \n",
    "    \n",
    "    #longest common subsequence\n",
    "    #dynamic programming algorithm for finding lcs\n",
    "    def lcs(l1,l2):\n",
    "        s1=word_tokenize(l1)\n",
    "        s2=word_tokenize(l2)\n",
    "        # storing the dp values \n",
    "        dp = [[None]*(len(s1)+1) for i in range(len(s2)+1)] \n",
    "      \n",
    "        for i in range(len(s2)+1): \n",
    "            for j in range(len(s1)+1): \n",
    "                if i == 0 or j == 0: \n",
    "                    dp[i][j] = 0\n",
    "                elif s2[i-1] == s1[j-1]: \n",
    "                    dp[i][j] = dp[i-1][j-1]+1\n",
    "                else: \n",
    "                    dp[i][j] = max(dp[i-1][j] , dp[i][j-1]) \n",
    "        return dp[len(s2)][len(s1)] \n",
    "    \n",
    "    \n",
    "    sent_o=sent_tokenize(orig)\n",
    "    sent_p=sent_tokenize(plag)\n",
    "    \n",
    "    #maximum length of LCS for a sentence in suspicious text\n",
    "    max_lcs=0\n",
    "    sum_lcs=0\n",
    "    \n",
    "    for i in sent_p:\n",
    "        for j in sent_o:\n",
    "            l=lcs(i,j)\n",
    "            max_lcs=max(max_lcs,l)\n",
    "        sum_lcs+=max_lcs\n",
    "        max_lcs=0\n",
    "    \n",
    "    \n",
    "    score=(sum_lcs/len(tokens_p)*100)\n",
    "    return J,C,score\n",
    "    \n"
   ]
  },
  {
   "cell_type": "code",
   "execution_count": 11,
   "metadata": {},
   "outputs": [],
   "source": [
    "files = [\"g0pA_taska.txt\",\"g0pB_taska.txt\",\"g0pC_taska.txt\",\"g0pD_taska.txt\",\"g0pE_taska.txt\"]\n",
    "j = []\n",
    "c = []\n",
    "scores = []\n",
    "for f in files:\n",
    "    result = plagiarism(f)\n",
    "    j.append(result[0])\n",
    "    c.append(result[1])\n",
    "    scores.append(result[2])    \n"
   ]
  },
  {
   "cell_type": "code",
   "execution_count": 12,
   "metadata": {},
   "outputs": [
    {
     "data": {
      "image/png": "[encoded data removed]",
      "text/plain": [
       "<Figure size 432x288 with 1 Axes>"
      ]
     },
     "metadata": {
      "needs_background": "light"
     },
     "output_type": "display_data"
    }
   ],
   "source": [
    "\"\"\"\n",
    "We evaluate all the scores on the documents in the dataset. \n",
    "There are three types of documents: near copy, lightly revised and heavily revised. \n",
    "The three scores obtained are as shown below.\n",
    "\"\"\"\n",
    "import numpy as np\n",
    "import matplotlib.pyplot as plt\n",
    "data = [j,c,scores]\n",
    "X = np.arange(5)\n",
    "fig = plt.figure()\n",
    "ax = fig.add_axes([0,0,1,1])\n",
    "ax.bar(X + 0.00, data[0], color = 'b', width = 0.25,label='Jaccard similarity')\n",
    "ax.bar(X + 0.25, data[1], color = 'g', width = 0.25,label='containment measure')\n",
    "ax.bar(X + 0.50, data[2], color = 'r', width = 0.25,label='LCS Score')\n",
    "plt.xlabel('Type of suspicious Document', fontweight='bold')\n",
    "plt.legend()\n",
    "plt.show()\n",
    "#We can observe that all the scores have higher values for highly plagiarised documents."
   ]
  },
  {
   "cell_type": "code",
   "execution_count": null,
   "metadata": {},
   "outputs": [],
   "source": []
  }
 ],
 "metadata": {
  "kernelspec": {
   "display_name": "Python 3",
   "language": "python",
   "name": "python3"
  },
  "language_info": {
   "codemirror_mode": {
    "name": "ipython",
    "version": 3
   },
   "file_extension": ".py",
   "mimetype": "text/x-python",
   "name": "python",
   "nbconvert_exporter": "python",
   "pygments_lexer": "ipython3",
   "version": "3.7.3"
  }
 },
 "nbformat": 4,
 "nbformat_minor": 2
}
